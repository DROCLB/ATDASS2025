{
 "cells": [
  {
   "cell_type": "markdown",
   "metadata": {},
   "source": [
    "**AI Arms Race and Risk-Neutral Pricing**\n",
    "\n",
    "The field of Artificial Intelligence is rapidly evolving, with companies like OpenAI and Google DeepMind at the forefront. Their breakthroughs in areas like large language models, reinforcement learning, and generative AI have captivated the world and sparked a fierce \"AI arms race.\"\n",
    "\n",
    "OpenAI is known for its large language models (like GPT-4) and image generation models (like DALL-E). Success in the *u*-state might involve a significant leap in reasoning or multi-modal capabilities for these models. Google DeepMind is famous for its achievements in reinforcement learning (AlphaGo, AlphaZero) and scientific applications of AI. Success in the *u*-state could mean a breakthrough in areas like protein folding, materials science, or a more general-purpose AI agent.\n",
    "\n",
    "An astute financial analyst is seriously considering capitalizing on this trend by trading financial securities whose value is tied to the success of these AI giants. The analyst believes that the landscape over the next year will boil down to two primary scenarios: (i) a major breakthrough is achieved, significantly advancing general AI capabilities; or (ii) progress continues at a steady pace, but no singular, transformative breakthrough occurs. Let's call outcome (i) the *u*-state (up) and outcome (ii) the *d*-state (down).\n",
    "\n",
    "After careful analysis, the analyst concludes that the value of a hypothetical \"AI Index\" (a basket of AI-related stocks) will be heavily influenced by these outcomes. For simplicity, we assume the AI Index is liquid and actively traded. The column *Price* refers to the last traded price for the index.\n",
    "\n",
    "|               | *d* state | *u* state | Price |\n",
    "| :------------ | :-------- | :-------- | :---- |\n",
    "| AI Index      | 60        | 150       | 100   |\n",
    "\n",
    "There is a riskless asset that pays a riskless return of 10%.\n",
    "\n",
    "A new player, Foresight Capital, has emerged, recognizing the potential of this burgeoning market. They've created a specialized derivative security called \"AI Advantage.\" This security is designed to pay out $\\$100$ in the *d*-state (where progress is steady but no major breakthrough occurs), and nothing $(\\$0)$ in the *u*-state (major breakthrough).\n",
    "\n",
    "1. What should the price of the \"AI Advantage\" security ought to be in the absence of arbitrage opportunities?\n",
    "\n",
    "2. Foresight Capital is creating a market for this security, quoting a bid price of $\\$45$ and an ask price of $\\$46$ for it. Can you make arbitrage profits by trading on the AI Index, riskless bonds, and/or \"AI Advantage\" securities?\n",
    "\n",
    "The analyst realizes their initial two-state model was overly simplistic. A more realistic view considers three potential scenarios for the next year:\n",
    "* (i) Rapid Advancement: A major breakthrough, like significant progress towards artificial general intelligence (AGI), is achieved by either OpenAI, Google Deepmind or both.\n",
    "* (ii) Moderate Progress: Both companies make meaningful progress, improving existing models and releasing new capabilities, but no single, transformative breakthrough occurs. OpenAI launches a new product, but Google DeepMind does not have any major releases.\n",
    "* (iii) Incremental Gains: Progress continues at a slower, more incremental pace, with improvements to existing AI models but no major leaps forward. Neither company has any major new product launches.\n",
    "\n",
    "After further analysis, the analyst revises the potential values of the AI Index as follows:\n",
    "\n",
    "|               | Incremental Gains | Moderate Progress | Rapid Advancement |\n",
    "| :------------ | :---------------- | :---------------- | :---------------- |\n",
    "| AI Index      | 60                | 100               | 150               |\n",
    "\n",
    "The AI Index is still trading at $\\$100$. The riskless rate remains 10%, and the \"AI Advantage\" securities still pay $\\$100$ if and only if state \"Incremental Gains\" occurs. Further, it's discovered that a call option on the AI Index with a strike price of $K =$ $\\$110$ is trading for $\\$15$.\n",
    "\n",
    "Given this trinomial model, what can you say about the price of the \"AI Advantage\" securities?"
   ]
  }
 ],
 "metadata": {
  "kernelspec": {
   "display_name": "base",
   "language": "python",
   "name": "python3"
  },
  "language_info": {
   "name": "python",
   "version": "3.12.7"
  }
 },
 "nbformat": 4,
 "nbformat_minor": 2
}
