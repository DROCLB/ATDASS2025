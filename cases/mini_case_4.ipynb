{
 "cells": [
  {
   "cell_type": "markdown",
   "metadata": {},
   "source": [
    "### Regulus Innovations Copper Hedge\n",
    "\n",
    "Regulus Innovations is managing its exposure to copper prices. The firm has a large short position in copper—$10000$ tonnes—and wishes to hedge this exposure using European call options. Copper is currently trading at $\\$9000$ per tonne with an initial assumption of a flat annual volatility of $25\\%$, and the continuously compounded risk-free rate is $5\\%$ per annum. Regulus Innovations can trade European call options on copper with 1-year maturities at strikes of $\\$8000$, $\\$9000$, and $\\$10000$.\n",
    "\n",
    "Part 1: Greeks & Hedging\n",
    "\n",
    "Determine the number of calls with a strike of $\\$9000$ that must be traded (sold or bought) to achieve a delta‑neutral portfolio, assuming a flat annual volatility of $25\\%$ for all strikes.\n",
    "\n",
    "Suppose instead the hedger uses calls with a strike of $\\$10000$. How many calls should be traded to achieve delta neutrality, assuming flat $25\\%$ volatility? And what if calls with a strike of $\\$8000$, are used, again with $25\\%$ volatility?\n",
    "\n",
    "Still assuming flat $25\\%$ volatility, which of the three calls (with strikes $\\$8000$, $\\$9000$, or $\\$10000$) would you prefer as a hedging instrument to reduce the frequency of rebalancing?\n",
    "\n",
    "Compute the theta of the delta‑neutral portfolios constructed using calls with strikes $\\$8000$, $\\$9000$, and $\\$10000$, respectively, assuming flat $25\\%$ volatility. Provide insights regarding the trade-offs among theta, delta, and gamma in hedging under this simplified flat volatility scenario.\n",
    "\n",
    "Part 2: Volatility Skew and Jump Risk\n",
    "\n",
    "Assume a volatility skew as follows exists:\n",
    "Strike $\\$8000$: Implied Volatility = $28\\%$\n",
    "Strike $\\$9000$: Implied Volatility = $25\\%$\n",
    "Strike $\\$10000$: Implied Volatility = $27\\%$ \n",
    "\n",
    "Recalculate the deltas and the number of calls with strikes $\\$8000$, $\\$9000$, and $\\$10000$ needed for delta neutrality, now using the strike-specific implied volatilities.\n",
    "\n",
    "Compare the hedge ratios obtained using flat volatility with those obtained when there is a volatility skew. Discuss how incorporating a volatility skew affects the composition of the delta-neutral hedge.\n",
    "\n",
    "Recalculate Gamma for calls with strikes $\\$8000$, $\\$9000$, and $\\$10000$ using their respective implied volatilities.\n",
    "\n",
    "Re-evaluate your preference for the strike price used for hedging, now explicitly considering both Gamma (calculated with skew) and the potential impact of jump risk. How does jump risk influence your choice of hedging instrument in conjunction with Gamma?\n",
    "\n",
    "Compute the Theta for the delta-neutral portfolios constructed using strike-specific volatilities.\n",
    "\n",
    "Discuss the concept of model risk in the context of this copper hedge, especially considering the presence of volatility skew and jump risk. Briefly outline potential advanced hedging strategies beyond basic delta hedging that Regulus Innovations could consider to improve their risk management."
   ]
  }
 ],
 "metadata": {
  "language_info": {
   "name": "python"
  }
 },
 "nbformat": 4,
 "nbformat_minor": 2
}
