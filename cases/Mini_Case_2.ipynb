{
 "cells": [
  {
   "cell_type": "markdown",
   "metadata": {},
   "source": [
    "### Snowfall Derivatives and Ski Resort Management\n",
    "\n",
    "AlpenSki AG (ticker: ASKI) operates ski resorts in the Bavarian Alps. Their winter revenue depends on adequate snowfall. If winter snowfall is too low, they face reduced visitor numbers and possibly higher snowmaking costs. If snowfall is very high, they may need to invest more in avalanche control and maintenance. Both situations introduce asymmetric risks.\n",
    "\n",
    "To manage this weather risk, AlpenSki AG wants to model the stochastic behavior of cumulative snowfall at its flagship resort near Garmisch-Partenkirchen, Germany. They focus on a variable $S_t$, representing the cumulative snow depth (in cm) by time $t$ in the season.\n",
    "\n",
    "A mean-reverting process is proposed:\n",
    "\n",
    "$$\n",
    "dS_t = \\alpha (\\theta - S_t)\\,dt + \\sigma \\, dW_t\n",
    "$$\n",
    "\n",
    "Where:\n",
    "- $S_t$ is the cumulative snow depth at time $t$ (in cm).\n",
    "- $\\alpha$ is the speed of mean reversion (assume $\\alpha = 0.4$ per year).\n",
    "- $\\theta$ is the long-term average seasonal snow depth (assume $\\theta = 220$ cm).\n",
    "- $\\sigma$ is the volatility of snowfall fluctuations (assume $\\sigma = 50$ cm per sqrt(year)).\n",
    "- $W_t$ is a standard Wiener process.\n",
    "- The initial condition is $S_0 = 80$ cm at $t = 0$.\n",
    "\n",
    "1. Why might a mean-reverting model be suitable for seasonal snow depth rather than, say, geometric Brownian motion? Discuss how $\\alpha$ (mean reversion speed) influences the idea that extremely low or high snow levels tend to revert toward a typical seasonal mean.\n",
    "\n",
    "2. Is the process\n",
    "   $$\n",
    "   dS_t = \\alpha(\\theta - S_t)\\,dt + \\sigma \\, dW_t\n",
    "   $$\n",
    "   Markovian? Explain briefly.\n",
    "\n",
    "3. How do the drift term and the diffusion term describe the snowfall’s evolution?\n",
    "\n",
    "4. Summarize the key properties of a Brownian Motion. How does this capture the randomness of daily/weekly snowfall variations?\n",
    "\n",
    "5. What is the quadratic variation of a Wiener process over $[0,T]$? Why is it a fundamental property explaining the “jagged” paths of Brownian motion?\n",
    "\n",
    "3. What is a martingale, and why might it matter if AlpenSki were to price a “Snow Depth Swap” or a “Snowfall Option” in a risk-neutral framework?\n",
    "\n",
    "4. Contrast geometric Brownian motion (GBM) with the mean-reverting model above. Why is GBM often used for stock prices, yet may be unsuitable for snowfall or temperature variables?\n",
    "\n",
    "5. How does stochastic $S_t$ expose AlpenSki to risk? Why is the payoff asymmetric?\n",
    "\n",
    "6. In practice, real-world weather patterns may show sudden storms, year-to-year climate shifts, or non-stationary behavior. What refinements might AlpenSki need for a more realistic model?"
   ]
  }
 ],
 "metadata": {
  "language_info": {
   "name": "python"
  }
 },
 "nbformat": 4,
 "nbformat_minor": 2
}
