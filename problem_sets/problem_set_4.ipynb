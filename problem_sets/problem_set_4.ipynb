{
 "cells": [
  {
   "cell_type": "markdown",
   "metadata": {},
   "source": [
    "### Question 4.1\n",
    "Consider the following prices of a set of European options with one-year maturity.\n",
    "\n",
    "| Strike     | 90      | 100     | 110     |\n",
    "|------------|---------|---------|---------|\n",
    "| Call price | 16.36   | 10.32   | 5.77    |\n",
    "\n",
    "You know the current value of the underlying asset is \\$100, and that the term structure is flat at 4.5\\%. The above options are all priced as if the underlying asset had a 20\\% annual volatility, and all of the Black-Scholes assumptions held.\n",
    "\n",
    "Suppose you hold a long position in 35 call options with a strike of \\$100 and 12 put options with a strike of \\$90 (one-year maturity).\n",
    "\n",
    "* How many call options with a strike of \\$90 would you need to trade in order to have a delta-neutral position? What would be the gamma of the combined position?\n",
    "\n",
    "* Given your delta-neutral combined position, how many call options with a strike of \\$90 and/or \\$110 would you need to trade in order to have a delta-neutral and gamma-neutral position?"
   ]
  },
  {
   "cell_type": "markdown",
   "metadata": {},
   "source": [
    "### Question 4.2\n",
    "\n",
    "A financial institution has the following portfolio of over‐the‐counter options on sterling:\n",
    "\n",
    "| Type | Position | Delta of option | Gamma of option | Vega of option |\n",
    "|------|----------|-----------------|-----------------|----------------|\n",
    "| Call | -1,200   | 0.55            | 2.00            | 1.50           |\n",
    "| Call | -400     | 0.85            | 0.80            | 0.30           |\n",
    "| Put  | -1,800   | -0.35           | 1.50            | 0.90           |\n",
    "| Call | -600     | 0.65            | 2.00            | 1.20           |\n",
    "\n",
    "In addition, a traded option is available with the following characteristics:\n",
    "- Delta = 0.65\n",
    "- Gamma = 1.3\n",
    "- Vega = 0.9\n",
    "\n",
    "Assume that the current spot of sterling is such that all the above greeks are computed at the same underlying price.\n",
    "\n",
    "1. What position in the traded option and in sterling would make the portfolio both gamma neutral and delta neutral?\n",
    "\n",
    "2. What position in the traded option and in sterling would make the portfolio both vega neutral and delta neutral?  \n",
    "Assume that all implied volatilities change by the same amount so that vegas can be aggregated.\n",
    "\n",
    "3. Given the available information, can you come up with a delta-gamma-vega neutral portfolio?\n"
   ]
  },
  {
   "cell_type": "markdown",
   "metadata": {},
   "source": [
    "### Question 4.3\n",
    "\n",
    "Assume that the Black-Scholes Model is correct. You hold a payout-protected put position on an asset that doesn't pay dividends, and the put is at-the-money.\n",
    "\n",
    "What is the elasticity of the value of payout-protected put position with respect to the underlying asset price?"
   ]
  },
  {
   "cell_type": "markdown",
   "metadata": {},
   "source": [
    "### Question 4.4\n",
    "You know the current value of a call option on the S\\&P500 with a strike price of \\$6275 and one-year maturity is \\$254.45. The S\\&P500 is currently trading for \\$5998.70, and it is expected to pay a 3\\% dividend yield over the next few years. The current term structure is flat at 4.5\\%.\n",
    "\n",
    "* What is the implied volatility of the call option?\n",
    "\n",
    "* Using the Black-Scholes model, what would you estimate the value of a put with the same strike price and expiration date on the S\\&P500 to be?\n",
    "\n",
    "* What is the implied volatility of the put option?"
   ]
  },
  {
   "cell_type": "markdown",
   "metadata": {},
   "source": [
    "### Question 4.5\n",
    "Consider the following market data for European options on a stock that currently trades at \\$100. The risk‑free rate is 5% per annum (continuously compounded) and the stock pays no dividends. Both options have a maturity of 1 year.\n",
    "\n",
    "- A European call option with strike \\$100 is trading at \\$12.50.\n",
    "- A European put option with the same strike and maturity is trading at \\$10.20.\n",
    "\n",
    "1. Calculate the implied volatility for the call option and for the put option using the Black–Scholes model.\n",
    "2. Identify any arbitrage opportunity that arises from any discrepancy between the call’s and put’s implied volatilities.\n",
    "3. Explain whether this arbitrage opportunity depends on the lognormal assumption underlying the Black–Scholes model."
   ]
  },
  {
   "cell_type": "markdown",
   "metadata": {},
   "source": [
    "### Question 4.6\n",
    "\n",
    "The current exchange rate is 1.0400 USD/EUR. The annualized volatility of the exchange rate is quoted as 15%, and interest rates in both countries are equal.\n",
    "\n",
    "Using the lognormal assumption, estimate the probability that the exchange rate in 6 months will be:\n",
    "\n",
    "(a) Less than 0.9000  \n",
    "(b) Between 0.9500 and 1.0000  \n",
    "(c) Between 1.0000 and 1.0400  \n",
    "(d) Between 1.0400 and 1.1000  \n",
    "(e) Between 1.1000 and 1.2500  \n",
    "(f) Greater than 1.2500  \n",
    "\n",
    "Additionally, discuss how the volatility smile commonly observed in FX markets might affect these probability estimates. Which of these probabilities might be too high or too low based on real-world market behavior?\n",
    "\n"
   ]
  }
 ],
 "metadata": {
  "language_info": {
   "name": "python"
  }
 },
 "nbformat": 4,
 "nbformat_minor": 2
}
