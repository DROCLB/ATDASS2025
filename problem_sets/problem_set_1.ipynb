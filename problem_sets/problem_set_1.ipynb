{
 "cells": [
  {
   "cell_type": "markdown",
   "metadata": {},
   "source": [
    "### Question 1.1\n",
    "* The current price of Estelle Corporation stock is $\\$25$. In the next year, the stock price will either go up by 20% or go down by 20%. \n",
    "* The stock pays no dividends. \n",
    "* The one-year risk-free interest rate is 6%. \n",
    "* Using the Binomial Model, calculate the price of a one-year put option on Estelle stock with a strike price of $\\$25$."
   ]
  },
  {
   "cell_type": "markdown",
   "metadata": {},
   "source": [
    "### Question 1.2\n",
    "* Suppose a stock is currently trading for $\\$60$, and in one period will either go up by $20%$ or fall by $10%$. If the one-period risk-free rate is $3%$, what is the price of a European put option that expires in one period and has an exercise price of $\\$60$?"
   ]
  },
  {
   "cell_type": "markdown",
   "metadata": {},
   "source": [
    "### Question 1.3\n",
    "* The current price of Natasha Corporation stock is $\\$6$. In each of the next two years, this stock price can either go up by $\\$2.50$ or go down by $\\$2$. The stock pays no dividends. The one-year risk-free interest rate is 3% and will remain constant. \n",
    "* Using the Binomial Model, calculate the prices of two-year call and put options on Natasha stock with a strike price of $\\$7$.\n",
    "* Verify your results using the put-call parity."
   ]
  },
  {
   "cell_type": "markdown",
   "metadata": {},
   "source": [
    "### Question 1.4\n",
    "* 2-year European and American put options with a strike price of 52 on a stock trading at 50.\n",
    "* Each year, the stock is expected to go up by 20% or down 20%. Each time step is 1 year, r=5%.  \n",
    "* Using the Binomial Model, calculate the prices of the European and American put options."
   ]
  },
  {
   "cell_type": "markdown",
   "metadata": {},
   "source": [
    "### Question 1.5\n",
    "A lookback call is identical to a standard European call, except that the strike price is not set in advance, but is equal to the minimum price experienced by the underlying asset during the life of the call.\n",
    "\n",
    "Suppose that the stock of BSA Inc. is now worth $26 and that it can either go up by 10% or down by 5% in each of the next two years. The risk-free interest rate is 5%. What is the price of a two-year lookback call on BSA Inc?\n",
    "What if, as a third possibility, the stock price may not move at all."
   ]
  },
  {
   "cell_type": "markdown",
   "metadata": {},
   "source": [
    "### Question 1.6\n",
    "Please extend the two-period binomial model to the case in which the stock pays a proportional dividend at each step (i.e. two year model with 1 year steps). Derive the risk-neutral probabilities. What is the effect of the introduction of a proportional dividend?"
   ]
  }
 ],
 "metadata": {
  "kernelspec": {
   "display_name": "base",
   "language": "python",
   "name": "python3"
  },
  "language_info": {
   "codemirror_mode": {
    "name": "ipython",
    "version": 3
   },
   "file_extension": ".py",
   "mimetype": "text/x-python",
   "name": "python",
   "nbconvert_exporter": "python",
   "pygments_lexer": "ipython3",
   "version": "3.12.7"
  }
 },
 "nbformat": 4,
 "nbformat_minor": 2
}
