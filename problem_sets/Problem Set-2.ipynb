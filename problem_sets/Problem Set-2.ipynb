{
 "cells": [
  {
   "cell_type": "markdown",
   "metadata": {},
   "source": [
    "### Question 2.1\n",
    "Let *X* be a positive random variable. Show that $E[\\ln X] \\leq \\ln(E[X]),$ with equality if and only if *X* is almost surely constant.\n",
    "\n",
    "1.  Discuss the relevance of this inequality in a portfolio/wealth context, noting that $\\ln(x)$ is often used as a utility function in certain financial models.\n",
    "\n",
    "2. Using Python coding, generate *N* i.i.d. random variables $X_1, X_2,..., X_N$ from a lognormal distribution with parameters $\\mu$ and $\\sigma^2$.\n",
    "\n",
    "3. Numerically compare $\\frac{1}{N} \\sum_{i=1}^{N} \\ln(X_i)$ to $\\ln(\\frac{1}{N} \\sum_{i=1}^{N} X_i)$ and confirm that the difference (sample average of $\\ln(X)$ minus $\\ln$ of the sample average of $X$) is typically non-positive."
   ]
  },
  {
   "cell_type": "markdown",
   "metadata": {},
   "source": [
    "### Question 2.2\n",
    "Consider a portfolio consisting of two assets with random returns $R_1$ and $R_2$. The portfolio weights are $w$ and $(1-w)$, where $0 \\leq w \\leq 1$. Let $U(R) = -e^{-\\gamma R}$ be a utility function, where $\\gamma > 0$ is the risk aversion coefficient and $R$ is the portfolio return. Using Jensen's Inequality, determine whether the expected utility of the portfolio is greater than or less than the utility of the expected portfolio return. Explain your reasoning and the financial implication."
   ]
  },
  {
   "cell_type": "markdown",
   "metadata": {},
   "source": [
    "### Question 2.3\n",
    "\n",
    "Define a Geometric Brownian Motion $\\{S_t\\}$ via $S_t = S_0 \\exp\\left(\\left(\\mu - \\frac{1}{2}\\sigma^2\\right)t + \\sigma W_t\\right).$\n",
    "\n",
    "1.  Show that $\\ln\\left(\\frac{S_t}{S_0}\\right)$ is normally distributed with mean $\\left(\\mu - \\frac{1}{2}\\sigma^2\\right)t$ and variance $\\sigma^2 t$.\n",
    "\n",
    "2. Argue why $\\{S_t\\}$ is log-normally distributed. Compute $E[S_t]$ and confirm that it is equal to $S_0 * e^{μt}$.\n",
    "\n",
    "3. Write a simulation for GBM, generating multiple sample paths.\n",
    "\n",
    "4. Empirically estimate the mean of $S_t$ for different $t$ and verify that the empirical mean converges to the theoretical value $E[S_t] = S_0 * e^(μt)$ as the number of sample paths increases.\n",
    "\n",
    "5. Plot a histogram of $\\ln(S_t / S_0)$ for a fixed $t$ to verify it is (approximately) normal."
   ]
  },
  {
   "cell_type": "markdown",
   "metadata": {},
   "source": [
    "### Question 2.4\n",
    "\n",
    "Write a Python function to simulate $N$ paths of a Geometric Brownian Motion on the time interval $[0, T]$ with parameters $\\mu$, $\\sigma$, and initial price $S_0$, using $M$ time steps.\n",
    "1. Use your function to simulate 5000 paths of GBM with parameters $\\mu = 0.08$, $\\sigma = 0.25$, $S_0 = 50$ on $[0, 0.5]$ with 125 time steps.\n",
    "2. For each simulated path at time $T = 0.5$, calculate the log-return: $R = \\ln(S_T / S_0)$. \n",
    "   * Plot a histogram of these log-returns. \n",
    "   * Numerically calculate the mean and standard deviation of these log-returns from your simulation. \n",
    "   * Compare these numerical results with the theoretical mean and standard deviation of the log-return derived from the properties of GBM."
   ]
  }
 ],
 "metadata": {
  "kernelspec": {
   "display_name": "base",
   "language": "python",
   "name": "python3"
  },
  "language_info": {
   "codemirror_mode": {
    "name": "ipython",
    "version": 3
   },
   "file_extension": ".py",
   "mimetype": "text/x-python",
   "name": "python",
   "nbconvert_exporter": "python",
   "pygments_lexer": "ipython3",
   "version": "3.12.7"
  }
 },
 "nbformat": 4,
 "nbformat_minor": 2
}
