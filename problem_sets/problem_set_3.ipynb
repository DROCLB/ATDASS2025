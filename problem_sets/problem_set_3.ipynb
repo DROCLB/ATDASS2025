{
 "cells": [
  {
   "cell_type": "markdown",
   "metadata": {},
   "source": [
    "### Question 3.1\n",
    "What are the expected returns of a call and put option on an underlying asset with a $\\beta_S = 1.2$? \n",
    "\n",
    "Assume that $r_f = 0.04$ and $E[r_m] = 10\\%$, $\\sigma = 0.30$, $T = 1$, $\\delta = 0$, $S = 60$, $K = 65$."
   ]
  },
  {
   "cell_type": "markdown",
   "metadata": {},
   "source": [
    "### Question 3.2\n",
    "A portfolio manager is responsible for designing a portfolio insurance strategy to mitigate downside risk over the next six months. The manager oversees a $750,000$ portfolio, which consists of high-beta stocks with a portfolio beta of $1.5$ relative to the market index. The index currently stands at $S_0 = 1200$, and the risk-free rate is $10\\%$ per annum. The index pays a continuous dividend yield of $3\\%$ per annum.\n",
    "The manager intends to use European put options on the index for hedging, where each contract covers $100$ index units.\n",
    "\n",
    "1.  The manager wants to ensure the portfolio does not fall below $650,000$ at expiration. Compute the hedge ratio based on portfolio beta and determine the exact number of put contracts required to achieve this insurance.\n",
    "2. Express the protection level in terms of the index value and derive the strike price $K$ of the put options needed to provide the required insurance.\n",
    "3. Assume that in six months, the index falls to $S_T = 1050$. Compute the unhedged portfolio value based on its beta-adjusted return. Determine the payoff from the put options and the total value of the hedged portfolio. Does the strategy ensure that the portfolio remains above $650,000$?\n",
    "4. Suppose the portfolio beta increases to $2.2$ due to increased exposure to volatile stocks. Derive the adjusted hedge ratio and compute the number of put contracts required to maintain the same level of protection.\n",
    "    * Compute the new index level corresponding to a protected portfolio value of $650,000$ and determine the required strike price.\n",
    "5. Derive a general formula for the cost of portfolio insurance as a function of beta, portfolio value, and option price.\n",
    "    *   Explain why higher beta leads to increased hedging costs, considering both:\n",
    "        *   The number of put contracts required.\n",
    "        *   The pricing impact on put options due to higher portfolio volatility.\n",
    "    *   Discuss how the Black-Scholes model accounts for volatility in put option pricing, and how higher beta portfolios require more expensive hedging strategies.\n",
    "6. Compute the expected value of the portfolio if the index declines to $S_T = 1140$ after six months, assuming a portfolio beta of $2.2$.\n",
    "    *   Show detailed calculations incorporating:\n",
    "        *   The portfolio's beta-adjusted return based on index movement.\n",
    "        *   The effect of continuous compounding for the risk-free rate and dividend yield.\n",
    "        *   Any expected put option payoffs if applicable.\n",
    "    *   Explain how the expected portfolio value varies with beta and why higher beta portfolios exhibit greater fluctuations.    "
   ]
  },
  {
   "cell_type": "markdown",
   "metadata": {},
   "source": [
    "### Question 3.3\n",
    "Consider an American futures call option and a corresponding American call option on the underlying asset, where both the futures contract and the option contract expire at the same time T. Assume that the risk-free interest rate is r, and the dividend yield is q. Under what circumstances, before expiration, is the futures option worth more (i.e., has a higher market price) than the corresponding American option on the underlying asset? Show your reasoning."
   ]
  },
  {
   "cell_type": "markdown",
   "metadata": {},
   "source": [
    "### Question 3.4\n",
    "A straddle is defined as the simultaneous purchase of a European call and a European put option on the same non-dividend paying underlying asset, with identical strike price $K$ and expiration $T$.  \n",
    "\n",
    "Using the Black–Scholes formula (no dividends):\n",
    "\n",
    "1. Derive the replicating portfolios for the individual call and put options.\n",
    "\n",
    "2. Show how to combine these replicating strategies to obtain the overall replicating portfolio for the straddle, using only the underlying asset and cash.  \n",
    "\n",
    "3. Analyze how the net position (the combined delta and cash) of the straddle’s replicating portfolio varies as a function of the underlying asset price relative to $K$.  \n",
    "\n",
    "4. Discuss in detail the implications of your results, addressing issues such as:  \n",
    "   - The near delta neutrality of an at-the-money straddle,  \n",
    "   - The high gamma (and resulting dynamic hedging challenges) when the underlying is near the strike,  \n",
    "   - The trade-offs between maintaining the hedge and incurring transaction costs."
   ]
  }
 ],
 "metadata": {
  "language_info": {
   "name": "python"
  }
 },
 "nbformat": 4,
 "nbformat_minor": 2
}
