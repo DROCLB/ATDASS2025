{
 "cells": [
  {
   "cell_type": "markdown",
   "metadata": {},
   "source": [
    "### Question 5.1\n",
    "What is the value of a derivative that pays off \\$100 in 6 months if an index is greater than 1,000 and zero otherwise? \n",
    "Assume that the current level of the index is 960, the risk-free rate is 8% per annum, the dividend yield on the index is 3% per annum, and the volatility of the index is 20%.\n",
    "- Compute the Delta and Vega of the derivative.\n",
    "- Suppose that, in addition to the continuous diffusion, the index also follows a jump-diffusion process with jump intensity $\\lambda = 0.5$ per year and a jump size that is lognormally distributed with mean $\\mu_J = -0.10$ and standard deviation $\\sigma_J = 0.20$.  \n",
    "- Discuss how the presence of jumps would affect the digital option’s price compared to the pure diffusion case."
   ]
  },
  {
   "cell_type": "markdown",
   "metadata": {},
   "source": [
    "### Question 5.2\n",
    "Consider an up-and-out barrier call option on a non-dividend-paying stock when the stock price is 50, the strike price is 50, the volatility is 30%, the risk-free rate is 5%, the \n",
    "time to maturity is 1 year, and the barrier at $80. \n",
    "\n",
    "Value the option and graph the relationship between (a) the option price and the stock price, (b) the delta and the stock price, (c) the option price and the time to maturity, and \n",
    "(d) the option price and the volatility. \n",
    "\n",
    "Provide an intuitive explanation for the results you get. \n",
    "\n",
    "Show that the delta, gamma, theta, and vega for an up-and-out barrier call option can be either positive or negative."
   ]
  },
  {
   "cell_type": "markdown",
   "metadata": {},
   "source": [
    "### Question 5.3\n",
    "Suppose that the yield R on a zero-coupon bond follows the process $dR = \\mu dt + \\sigma dz$ where $\\mu$ and $\\sigma$ are functions of $R$ and $t$, and $dz$ is a Wiener process. Use Itô’s lemma to show that the volatility of the zero-coupon bond price declines to zero as it approaches \n",
    "maturity."
   ]
  },
  {
   "cell_type": "markdown",
   "metadata": {},
   "source": [
    "### Question 5.4\n",
    "Suppose that all risk-free (OIS) zero rates are 6.5% continuously compounded. The price of a 5-year semiannual cap on LIBOR with a principal of \\$100 and a cap rate of 8% semiannually compounded is $3.  \n",
    "\n",
    "Calculate:  \n",
    "\n",
    "(a) The implied 5-year flat volatility for caps and floors  \n",
    "(b) The floor rate in a zero-cost 5-year collar when the cap rate is 8%  \n",
    "\n",
    "Assume that all 6-month LIBOR forward rates are 6.7% with semiannual compounding."
   ]
  },
  {
   "cell_type": "markdown",
   "metadata": {},
   "source": [
    "### Question 5.5\n",
    "A swaption gives the holder the right to receive 7.6% in a 5-year swap starting in 4 years. Payments are made annually.  \n",
    "\n",
    "The forward swap rate is 8% with annual compounding, and its volatility is 25% per annum. The principal is $1 million, and risk-free (OIS) rates for all maturities are 7.8% with continuous compounding.  \n",
    "\n",
    "Use Black’s model to price the swaption. "
   ]
  }
 ],
 "metadata": {
  "kernelspec": {
   "display_name": "base",
   "language": "python",
   "name": "python3"
  },
  "language_info": {
   "codemirror_mode": {
    "name": "ipython",
    "version": 3
   },
   "file_extension": ".py",
   "mimetype": "text/x-python",
   "name": "python",
   "nbconvert_exporter": "python",
   "pygments_lexer": "ipython3",
   "version": "3.12.7"
  }
 },
 "nbformat": 4,
 "nbformat_minor": 2
}
