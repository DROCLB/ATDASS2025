{
 "cells": [
  {
   "cell_type": "markdown",
   "metadata": {},
   "source": [
    "### Redwood Robotics’ Financing Decision\n",
    "\n",
    "Redwood Robotics, a mid‑sized robotics manufacturer, is planning to fund its new line of collaborative “cobots” for smart factories. Rather than issuing high‑coupon bonds or diluting equity via a new stock offering, Redwood’s CFO has proposed a convertible bond. This structure offers a lower annual coupon but comes with the risk of dilution if Redwood’s share price rises above the conversion threshold. The convertible bond will have a maturity of 3 years, a face value of \\$1,000, an annual coupon rate of 3%, and a total notional issue size of \\$100 million. Also, each bond will be convertible to 25 shares at the maturity. Currently, Redwood Robotics' has 18 million stocks outstanding and the current stock price is \\$35 per share. The stock pays no dividends. \n",
    "\n",
    "Redwood Robotics’ also has outstanding debt on its balance sheet with a notional amount of \\$125 million and a time to maturity of 3 years. This issue is a plain bond that makes 10% annual coupon payments, and is valued at \\$135 million. The risk-free rate is flat at 4.5%.\n",
    "\n",
    "The asset volatility of the company is 30%.\n",
    "\n",
    "1. Calculate the fair issuance price of the convertible bond?\n",
    "\n",
    "2. If Redwood wants the bond to price exactly at \\$1,000 at issuance, should it adjust the conversion ratio or modify the coupon rate? Calculate the alternative coupon rate and coversion ratio in this case.\n",
    "\n",
    "3. What would be the impact of higher volatility at issuance and after issuance (i.e. 1 year)?\n",
    "\n",
    "4. Discuss the impact of the convertible bond issuance to the cost of capital of the firm?\n",
    "\n",
    "5. Discuss the potential dilution risk.\n",
    "\n",
    "6. From the perspective of overall cost of capital and dilution risk, shoul Redwood prefer issuing the 2% convertible bond rather than a standard higher-coupon bond?\n",
    "\n",
    "7. What if the company added a call option for the convertible bond at \\$1,125? In this case, assume that starting at t=1 on the coupon payment dates, both the company can call the bond back and the bondholders can choose to convert.  "
   ]
  }
 ],
 "metadata": {
  "language_info": {
   "name": "python"
  }
 },
 "nbformat": 4,
 "nbformat_minor": 2
}
